{
 "cells": [
  {
   "cell_type": "code",
   "execution_count": 37,
   "id": "0ec249cf",
   "metadata": {},
   "outputs": [],
   "source": [
    "def face_detect(img_dir):\n",
    "    img = cv2.imread(img_dir)\n",
    "    img_g = cv2.cvtColor(img, cv2.COLOR_BGR2GRAY)\n",
    "    FaceRecog = cv2.CascadeClassifier('face_recog_data.xml')\n",
    "    cor = FaceRecog.detectMultiScale(img_g,1.3,5)\n",
    "    try:\n",
    "        if cor.all():\n",
    "            for (x,y,w,h) in cor:\n",
    "                img = cv2.rectangle(img, (x, y), (x+w, y+h), (255, 0, 0), 3)\n",
    "            return img\n",
    "    except AttributeError:\n",
    "        return img"
   ]
  },
  {
   "cell_type": "code",
   "execution_count": 38,
   "id": "dc0cb63a",
   "metadata": {},
   "outputs": [
    {
     "data": {
      "text/plain": [
       "-1"
      ]
     },
     "execution_count": 38,
     "metadata": {},
     "output_type": "execute_result"
    }
   ],
   "source": [
    "import cv2\n",
    "cv2.imshow('Face Detection',face_detect('p1.jpg'))\n",
    "cv2.waitKey(0)"
   ]
  }
 ],
 "metadata": {
  "kernelspec": {
   "display_name": "Python 3",
   "language": "python",
   "name": "python3"
  },
  "language_info": {
   "codemirror_mode": {
    "name": "ipython",
    "version": 3
   },
   "file_extension": ".py",
   "mimetype": "text/x-python",
   "name": "python",
   "nbconvert_exporter": "python",
   "pygments_lexer": "ipython3",
   "version": "3.8.8"
  }
 },
 "nbformat": 4,
 "nbformat_minor": 5
}
